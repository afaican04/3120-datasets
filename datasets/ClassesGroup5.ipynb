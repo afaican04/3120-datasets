{
 "cells": [
  {
   "cell_type": "code",
   "execution_count": 1,
   "metadata": {},
   "outputs": [
    {
     "name": "stdout",
     "output_type": "stream",
     "text": [
      "I am a Cat of the Persian breed.\n",
      "My breed has been updated to Siamese.\n",
      "I am a Cat of the Siamese breed.\n",
      "My species has been updated to Feline.\n",
      "I am a Feline of the Siamese breed.\n",
      "Feline\n",
      "Siamese\n"
     ]
    }
   ],
   "source": [
    "class Animal:\n",
    "    def __init__(self, species, breed):\n",
    "        self.__species = species  \n",
    "        self.__breed = breed     \n",
    "    \n",
    "    def print_info(self):\n",
    "        print(f\"I am a {self.__species} of the {self.__breed} breed.\")\n",
    "    \n",
    "    def set_breed(self, breed):\n",
    "        self.__breed = breed\n",
    "        print(f\"My breed has been updated to {self.__breed}.\")\n",
    "    \n",
    "    def get_breed(self):\n",
    "        return self.__breed\n",
    "    \n",
    "    def set_species(self, species):\n",
    "        self.__species = species\n",
    "        print(f\"My species has been updated to {self.__species}.\")\n",
    "    \n",
    "    def get_species(self):\n",
    "        return self.__species\n",
    "\n",
    "cat = Animal(\"Cat\", \"Persian\")\n",
    "cat.print_info()  \n",
    "\n",
    "cat.set_breed(\"Siamese\")\n",
    "cat.print_info()  \n",
    "\n",
    "cat.set_species(\"Feline\")\n",
    "cat.print_info()  \n",
    "\n",
    "print(cat.get_species())  \n",
    "print(cat.get_breed())   \n"
   ]
  }
 ],
 "metadata": {
  "kernelspec": {
   "display_name": "Python 3",
   "language": "python",
   "name": "python3"
  },
  "language_info": {
   "codemirror_mode": {
    "name": "ipython",
    "version": 3
   },
   "file_extension": ".py",
   "mimetype": "text/x-python",
   "name": "python",
   "nbconvert_exporter": "python",
   "pygments_lexer": "ipython3",
   "version": "3.12.1"
  }
 },
 "nbformat": 4,
 "nbformat_minor": 5
}
